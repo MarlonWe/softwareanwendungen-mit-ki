{
 "cells": [
  {
   "cell_type": "code",
   "execution_count": 1,
   "id": "166551ec",
   "metadata": {},
   "outputs": [
    {
     "data": {
      "text/plain": "   Auftragskonto Buchungstag Valutadatum              Buchungstext  \\\n0     89990201.0  28.07.2016  28.07.2016             Lohn   Gehalt   \n1     89990201.0  27.07.2016  27.07.2016                     Miete   \n2     89990201.0  21.07.2016  21.07.2016                   Bargeld   \n3     89990201.0  20.07.2016  20.07.2016  Lebensmittel   Getraenke   \n4     89990201.0  18.07.2016  18.07.2016            Spontanausgabe   \n\n                                    Verwendungszweck  \\\n0  Gehalt Adorsys GmbH      End  End Ref   Notpro...   \n1  BylademSbt  Miete Beuthener Str   End  End Ref...   \n2     Uhr Nuernberg All Eur   Geb Eur   Einzahlun...   \n3   Edeka Neubauer Nuernb   Nuernb      Kfn    La...   \n4                                             Amazon   \n\n  Beguenstigter/Zahlungspflichtiger             Kontonummer          BLZ  \\\n0             Adorsys GmbH   Co  KG              7807800780     25190001   \n1                      Georg Tasche  DE31251900019123456780  VOHADE2HXXX   \n2                           Bargeld              9999900780     25190001   \n3                     Kartenzahlung              9736000780     25190001   \n4                  neue Playstation              9988776655     25125100   \n\n    Betrag Waehrung             label  \n0  2000.00      EUR            income  \n1  -670.00      EUR            living  \n2   -70.00      EUR           private  \n3   -73.21      EUR  standardOfLiving  \n4     -363      EUR           leisure  ",
      "text/html": "<div>\n<style scoped>\n    .dataframe tbody tr th:only-of-type {\n        vertical-align: middle;\n    }\n\n    .dataframe tbody tr th {\n        vertical-align: top;\n    }\n\n    .dataframe thead th {\n        text-align: right;\n    }\n</style>\n<table border=\"1\" class=\"dataframe\">\n  <thead>\n    <tr style=\"text-align: right;\">\n      <th></th>\n      <th>Auftragskonto</th>\n      <th>Buchungstag</th>\n      <th>Valutadatum</th>\n      <th>Buchungstext</th>\n      <th>Verwendungszweck</th>\n      <th>Beguenstigter/Zahlungspflichtiger</th>\n      <th>Kontonummer</th>\n      <th>BLZ</th>\n      <th>Betrag</th>\n      <th>Waehrung</th>\n      <th>label</th>\n    </tr>\n  </thead>\n  <tbody>\n    <tr>\n      <th>0</th>\n      <td>89990201.0</td>\n      <td>28.07.2016</td>\n      <td>28.07.2016</td>\n      <td>Lohn   Gehalt</td>\n      <td>Gehalt Adorsys GmbH      End  End Ref   Notpro...</td>\n      <td>Adorsys GmbH   Co  KG</td>\n      <td>7807800780</td>\n      <td>25190001</td>\n      <td>2000.00</td>\n      <td>EUR</td>\n      <td>income</td>\n    </tr>\n    <tr>\n      <th>1</th>\n      <td>89990201.0</td>\n      <td>27.07.2016</td>\n      <td>27.07.2016</td>\n      <td>Miete</td>\n      <td>BylademSbt  Miete Beuthener Str   End  End Ref...</td>\n      <td>Georg Tasche</td>\n      <td>DE31251900019123456780</td>\n      <td>VOHADE2HXXX</td>\n      <td>-670.00</td>\n      <td>EUR</td>\n      <td>living</td>\n    </tr>\n    <tr>\n      <th>2</th>\n      <td>89990201.0</td>\n      <td>21.07.2016</td>\n      <td>21.07.2016</td>\n      <td>Bargeld</td>\n      <td>Uhr Nuernberg All Eur   Geb Eur   Einzahlun...</td>\n      <td>Bargeld</td>\n      <td>9999900780</td>\n      <td>25190001</td>\n      <td>-70.00</td>\n      <td>EUR</td>\n      <td>private</td>\n    </tr>\n    <tr>\n      <th>3</th>\n      <td>89990201.0</td>\n      <td>20.07.2016</td>\n      <td>20.07.2016</td>\n      <td>Lebensmittel   Getraenke</td>\n      <td>Edeka Neubauer Nuernb   Nuernb      Kfn    La...</td>\n      <td>Kartenzahlung</td>\n      <td>9736000780</td>\n      <td>25190001</td>\n      <td>-73.21</td>\n      <td>EUR</td>\n      <td>standardOfLiving</td>\n    </tr>\n    <tr>\n      <th>4</th>\n      <td>89990201.0</td>\n      <td>18.07.2016</td>\n      <td>18.07.2016</td>\n      <td>Spontanausgabe</td>\n      <td>Amazon</td>\n      <td>neue Playstation</td>\n      <td>9988776655</td>\n      <td>25125100</td>\n      <td>-363</td>\n      <td>EUR</td>\n      <td>leisure</td>\n    </tr>\n  </tbody>\n</table>\n</div>"
     },
     "execution_count": 1,
     "metadata": {},
     "output_type": "execute_result"
    }
   ],
   "source": [
    "import pandas as pd\n",
    "from sklearn.preprocessing import LabelEncoder\n",
    "from sklearn.feature_extraction.text import CountVectorizer\n",
    "from sklearn.metrics import classification_report\n",
    "from sklearn.model_selection import train_test_split, GridSearchCV\n",
    "from sklearn.naive_bayes import MultinomialNB\n",
    "from sklearn.pipeline import Pipeline\n",
    "\n",
    "data_set = 'SAKI Exercise 1 - Transaction Classification - Data Set.csv'\n",
    "df = pd.read_csv(data_set, sep=';', index_col=0, na_values='?')\n",
    "\n",
    "#################################################################################\n",
    "# 1. clean and prepare data                                                     #\n",
    "#################################################################################\n",
    "\n",
    "df['Buchungstext'] = df['Buchungstext'].str.replace(r'\\W', ' ', regex=True)\n",
    "df['Verwendungszweck'] = df['Verwendungszweck'].str.replace(r'\\W', ' ', regex=True)\n",
    "df['Verwendungszweck'] = df['Verwendungszweck'].str.replace(r'\\d', '', regex=True)\n",
    "df['Verwendungszweck'] = df['Verwendungszweck'].str.replace(r'\\b\\w{1,2}\\b', '', regex=True)\n",
    "df['Beguenstigter/Zahlungspflichtiger'] = df['Beguenstigter/Zahlungspflichtiger'].str.replace(r'\\W', ' ', regex=True)\n",
    "df['Beguenstigter/Zahlungspflichtiger'] = df['Beguenstigter/Zahlungspflichtiger'].str.replace(r'\\d', '', regex=True)\n",
    "\n",
    "df.head()"
   ]
  },
  {
   "cell_type": "code",
   "execution_count": 2,
   "id": "88335a81",
   "metadata": {},
   "outputs": [
    {
     "data": {
      "text/plain": "0      Lohn   Gehalt Gehalt Adorsys GmbH      End  En...\n1      Miete BylademSbt  Miete Beuthener Str   End  E...\n2      Bargeld    Uhr Nuernberg All Eur   Geb Eur   E...\n3      Lebensmittel   Getraenke  Edeka Neubauer Nuern...\n4                 Spontanausgabe Amazon neue Playstation\n                             ...                        \n204    Mieteinnahmen Mietzuschuss End  End Ref   Notp...\n205    Geldanlage CcbadeXxx  Sparen End  End Ref   No...\n206    Lohn   Gehalt Gehalt Adorsys GmbH      End  En...\n207    Geldanlage SskndeXxx  Einmalsparen End  End Re...\n208    Lastschrift  Einzugsermächtigung  Abonnement  ...\nName: message, Length: 209, dtype: object"
     },
     "execution_count": 2,
     "metadata": {},
     "output_type": "execute_result"
    }
   ],
   "source": [
    "#################################################################################\n",
    "# 2. label data                                                                 #\n",
    "#################################################################################\n",
    "\n",
    "le = LabelEncoder()\n",
    "df['label'] = le.fit_transform(df['label'])\n",
    "\n",
    "#################################################################################\n",
    "# 3. define features to use                                                     #\n",
    "#################################################################################\n",
    "\n",
    "data = pd.DataFrame({'message': []})\n",
    "data['message'] = df['Buchungstext'] + ' ' + df['Verwendungszweck'] + ' ' + df['Beguenstigter/Zahlungspflichtiger']\n",
    "\n",
    "data['message']"
   ]
  },
  {
   "cell_type": "code",
   "execution_count": 4,
   "id": "2c60cc5a",
   "metadata": {},
   "outputs": [
    {
     "name": "stdout",
     "output_type": "stream",
     "text": [
      "                  precision    recall  f1-score   support\n",
      "\n",
      "         finance       1.00      1.00      1.00         8\n",
      "          income       1.00      1.00      1.00         4\n",
      "         leisure       0.94      1.00      0.97        16\n",
      "          living       1.00      0.71      0.83         7\n",
      "         private       1.00      0.67      0.80         6\n",
      "standardOfLiving       0.80      1.00      0.89        12\n",
      "\n",
      "        accuracy                           0.92        53\n",
      "       macro avg       0.96      0.90      0.92        53\n",
      "    weighted avg       0.94      0.92      0.92        53\n",
      "\n",
      "vect__ngram_range: (2, 2)\n"
     ]
    }
   ],
   "source": [
    "#################################################################################\n",
    "# 4. transform features into a usable format and 5. train model                 #\n",
    "#################################################################################\n",
    "\n",
    "X_train, X_test, y_train, y_test = train_test_split(data['message'], df['label'], random_state=42)\n",
    "\n",
    "text_clf = Pipeline([\n",
    "    ('vect', CountVectorizer()),\n",
    "    ('clf', MultinomialNB()),\n",
    "])\n",
    "parameters = {\n",
    "    'vect__ngram_range': [(1, 1), (1, 2), (2, 2)],\n",
    "}\n",
    "gs_clf = GridSearchCV(text_clf, parameters, cv=5, n_jobs=-1)\n",
    "gs_clf.fit(X_train, y_train)\n",
    "\n",
    "#################################################################################\n",
    "# 6. evaluate model                                                             #\n",
    "#################################################################################\n",
    "\n",
    "predictions = gs_clf.predict(X_test)\n",
    "\n",
    "print(classification_report(y_test, predictions, target_names=le.classes_))\n",
    "\n",
    "for param_name in sorted(parameters.keys()):\n",
    "    print(\"%s: %r\" % (param_name, gs_clf.best_params_[param_name]))"
   ]
  }
 ],
 "metadata": {
  "kernelspec": {
   "display_name": "Python 3",
   "language": "python",
   "name": "python3"
  },
  "language_info": {
   "codemirror_mode": {
    "name": "ipython",
    "version": 3
   },
   "file_extension": ".py",
   "mimetype": "text/x-python",
   "name": "python",
   "nbconvert_exporter": "python",
   "pygments_lexer": "ipython3",
   "version": "3.8.5"
  }
 },
 "nbformat": 4,
 "nbformat_minor": 5
}