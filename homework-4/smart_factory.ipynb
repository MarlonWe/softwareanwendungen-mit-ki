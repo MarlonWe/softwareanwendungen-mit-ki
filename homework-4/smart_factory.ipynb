{
 "cells": [
  {
   "cell_type": "markdown",
   "metadata": {},
   "source": [
    "# Smart factory (2x2)\n",
    "## Import and initialization"
   ]
  },
  {
   "cell_type": "code",
   "execution_count": 285,
   "metadata": {},
   "outputs": [],
   "source": [
    "# Python imports\n",
    "import itertools\n",
    "\n",
    "# 3rd party imports\n",
    "import mdptoolbox\n",
    "import numpy as np\n",
    "import pandas as pd"
   ]
  },
  {
   "cell_type": "code",
   "execution_count": 286,
   "metadata": {},
   "outputs": [
    {
     "name": "stdout",
     "output_type": "stream",
     "text": [
      "    action   item\n",
      "0    store    red\n",
      "1    store    red\n",
      "2    store    red\n",
      "3    store  white\n",
      "4  restore    red\n"
     ]
    }
   ],
   "source": [
    "dataset = \"Copy of SAKI Exercise 4 warehousetraining2x2.txt\"\n",
    "df = pd.read_csv(dataset, names=[\"action\", \"item\"], delimiter=\"\\t\")\n",
    "print(df.head())"
   ]
  },
  {
   "cell_type": "code",
   "execution_count": 310,
   "metadata": {},
   "outputs": [
    {
     "name": "stdout",
     "output_type": "stream",
     "text": [
      "Store sum 4089\n",
      "Restore sum 4088 \n",
      "\n",
      "{'store': item\n",
      "red      0.252415\n",
      "white    0.125963\n",
      "blue     0.121683\n",
      "dtype: float64, 'restore': item\n",
      "red      0.252415\n",
      "white    0.125841\n",
      "blue     0.121683\n",
      "dtype: float64}\n"
     ]
    }
   ],
   "source": [
    "item_counts_store = df[df[\"action\"] == \"store\"].value_counts()\n",
    "item_counts_restore = df[df[\"action\"] == \"restore\"].value_counts()\n",
    "probabilites_store_restore = {\n",
    "    \"store\": (item_counts_store / df.count()[\"item\"])[\"store\"], \n",
    "    \"restore\": (item_counts_restore / df.count()[\"item\"])[\"restore\"]\n",
    "}\n",
    "\n",
    "print(f\"Store sum {item_counts_store.sum()}\")\n",
    "print(f\"Restore sum {item_counts_restore.sum()}\", '\\n')\n",
    "print(probabilites_store_restore)"
   ]
  },
  {
   "cell_type": "code",
   "execution_count": 288,
   "metadata": {},
   "outputs": [
    {
     "name": "stdout",
     "output_type": "stream",
     "text": [
      "Grid: 2x2\n",
      "Items:['red', 'blue', 'white']\n",
      "Warehouse cells: ['empty', 'red', 'blue', 'white']\n",
      "Number of states: 1536\n"
     ]
    }
   ],
   "source": [
    "rows, cols = 2, 2\n",
    "num_cells = rows * cols\n",
    "\n",
    "items = [\"red\", \"blue\", \"white\"]\n",
    "num_items = len(items)\n",
    "\n",
    "goals = [\"store\", \"restore\"]\n",
    "num_goals = len(goals)\n",
    "\n",
    "warehouse_cells = [\"empty\"] + list(items)\n",
    "num_warehouse_cells = len(warehouse_cells)\n",
    "\n",
    "num_states = num_goals * num_items * num_warehouse_cells**(num_cells)\n",
    "\n",
    "print(f\"Grid: {rows}x{cols}\")\n",
    "print(f\"Items:{items}\")\n",
    "print(f\"Warehouse cells: {warehouse_cells}\")\n",
    "print(f\"Number of states: {num_states}\")"
   ]
  },
  {
   "cell_type": "code",
   "execution_count": 289,
   "metadata": {},
   "outputs": [
    {
     "name": "stdout",
     "output_type": "stream",
     "text": [
      "Actions: [('store', 'red'), ('store', 'blue'), ('store', 'white'), ('restore', 'red'), ('restore', 'blue'), ('restore', 'white')]\n",
      "\n",
      "States, Actions: [(('empty', 'empty', 'empty', 'empty'), ('store', 'red')), (('empty', 'empty', 'empty', 'red'), ('store', 'red')), (('empty', 'empty', 'empty', 'blue'), ('store', 'red')), (('empty', 'empty', 'empty', 'white'), ('store', 'red')), (('empty', 'empty', 'red', 'empty'), ('store', 'red')), (('empty', 'empty', 'red', 'red'), ('store', 'red')), (('empty', 'empty', 'red', 'blue'), ('store', 'red')), (('empty', 'empty', 'red', 'white'), ('store', 'red')), (('empty', 'empty', 'blue', 'empty'), ('store', 'red')), (('empty', 'empty', 'blue', 'red'), ('store', 'red'))]\n"
     ]
    }
   ],
   "source": [
    "actions = []\n",
    "for goal in goals:\n",
    "    for item in items:\n",
    "        actions.append((goal, item))\n",
    "print(f\"Actions: {actions}\\n\")\n",
    "\n",
    "states_actions = []\n",
    "indices = list(itertools.product(warehouse_cells, repeat=rows * cols))\n",
    "for action in actions:\n",
    "    for state in indices:\n",
    "        states_actions.append((state, action))\n",
    "print(f\"States, Actions: {states_actions[:10]}\")"
   ]
  },
  {
   "cell_type": "code",
   "execution_count": 290,
   "metadata": {},
   "outputs": [
    {
     "name": "stdout",
     "output_type": "stream",
     "text": [
      "{('store', 'red'): 0.25241531123884065, ('store', 'blue'): 0.12168276874159227, ('store', 'white'): 0.12596306713953773, ('restore', 'red'): 0.25241531123884065, ('restore', 'blue'): 0.12168276874159227, ('restore', 'white'): 0.12584077289959644}\n"
     ]
    }
   ],
   "source": [
    "def get_probabilities():\n",
    "    probabilities = {}\n",
    "    for goal, item in actions:\n",
    "        probabilities[(goal, item)] = probabilites_store_restore[goal][item]\n",
    "        \n",
    "    return probabilities\n",
    "\n",
    "probabilities = get_probabilities()\n",
    "print(probabilities)"
   ]
  },
  {
   "cell_type": "markdown",
   "metadata": {},
   "source": [
    "## Create transition probability and reward matrix"
   ]
  },
  {
   "cell_type": "code",
   "execution_count": 291,
   "metadata": {},
   "outputs": [
    {
     "name": "stdout",
     "output_type": "stream",
     "text": [
      "[[[0.         0.         0.         ... 0.         0.         0.        ]\n",
      "  [0.         0.         0.         ... 0.         0.         0.        ]\n",
      "  [0.         0.         0.         ... 0.         0.         0.        ]\n",
      "  ...\n",
      "  [0.         0.         0.         ... 0.         0.         0.        ]\n",
      "  [0.         0.         0.         ... 0.         0.         0.        ]\n",
      "  [0.         0.         0.         ... 0.         0.         0.        ]]\n",
      "\n",
      " [[0.         0.         0.         ... 0.         0.         0.        ]\n",
      "  [0.         0.         0.         ... 0.         0.         0.        ]\n",
      "  [0.         0.         0.         ... 0.         0.         0.        ]\n",
      "  ...\n",
      "  [0.         0.         0.         ... 0.         0.         0.        ]\n",
      "  [0.         0.         0.         ... 0.         0.         0.        ]\n",
      "  [0.         0.         0.         ... 0.         0.         0.        ]]\n",
      "\n",
      " [[0.         0.         0.         ... 0.         0.         0.        ]\n",
      "  [0.         0.         0.         ... 0.         0.         0.        ]\n",
      "  [0.         0.         0.         ... 0.         0.         0.        ]\n",
      "  ...\n",
      "  [0.         0.         0.         ... 0.         0.         0.        ]\n",
      "  [0.         0.         0.         ... 0.         0.         0.        ]\n",
      "  [0.         0.         0.         ... 0.         0.         0.        ]]\n",
      "\n",
      " [[0.         0.25241531 0.         ... 0.         0.         0.        ]\n",
      "  [0.         0.25241531 0.         ... 0.         0.         0.        ]\n",
      "  [0.         0.         0.25241531 ... 0.         0.         0.        ]\n",
      "  ...\n",
      "  [0.         0.         0.         ... 0.         0.         0.        ]\n",
      "  [0.         0.         0.         ... 0.         0.         0.        ]\n",
      "  [0.         0.         0.         ... 0.         0.         0.        ]]]\n"
     ]
    }
   ],
   "source": [
    "def create_tpm():\n",
    "    tpm_full = np.zeros((num_cells, num_states, num_states))\n",
    "\n",
    "    for i, tpm in enumerate(tpm_full):\n",
    "        for j, (state, (goal, item)) in enumerate(states_actions):\n",
    "            store_proposal = list(state)\n",
    "            store_proposal[i] = item\n",
    "            store_proposal = tuple(store_proposal)\n",
    "\n",
    "            restore_proposal = list(state)\n",
    "            restore_proposal[i] = \"empty\"\n",
    "            restore_proposal = tuple(restore_proposal)\n",
    "\n",
    "            for k, (state_next, action_next) in enumerate(states_actions):\n",
    "                if goal == \"store\":\n",
    "                    if state[i] == \"empty\":\n",
    "                        if store_proposal == state_next:\n",
    "                            # Set probability for storing the proposed item \n",
    "                            tpm[j, k] = probabilities[action_next]\n",
    "                    elif state == state_next:\n",
    "                        # Set probablity for not changing anything \n",
    "                        tpm[j, k] = probabilities[action_next]\n",
    "                else:\n",
    "                    if state[i] in items:\n",
    "                        # Set probability for restoring the proposed item\n",
    "                        if restore_proposal == state_next:\n",
    "                            tpm[j, k] = probabilities[action_next]\n",
    "                    elif state == state_next:\n",
    "                        # Set probablity for not changing anything \n",
    "                        tpm[j, k] = probabilities[action_next]\n",
    "\n",
    "    return tpm_full\n",
    "\n",
    "tpm_full = create_tpm()\n",
    "print(tpm_full)"
   ]
  },
  {
   "cell_type": "code",
   "execution_count": 292,
   "metadata": {},
   "outputs": [
    {
     "name": "stdout",
     "output_type": "stream",
     "text": [
      "[[-0.04 -0.04 -0.04 -0.04]\n",
      " [-0.04 -0.04 -0.04 -1.  ]\n",
      " [-0.04 -0.04 -0.04 -1.  ]\n",
      " ...\n",
      " [-0.04 -0.04 -0.04 -1.  ]\n",
      " [-0.04 -0.04 -0.04 -1.  ]\n",
      " [-0.04 -0.04 -0.04 -0.04]]\n"
     ]
    }
   ],
   "source": [
    "def create_reward():\n",
    "    reward_full = np.zeros((num_states, num_cells))\n",
    "    \n",
    "    for j, (state, (goal, item)) in enumerate(states_actions):\n",
    "        for i in range(num_cells):\n",
    "            if goal == \"store\":\n",
    "                if state[i] == \"empty\":\n",
    "                    # Each store should be penalized a little bit so that the robot prefers items near the entry\n",
    "                    reward_full[j, i] = -0.04\n",
    "                else:\n",
    "                    # Storing if state[i] is not empty should be penalized hard to avoid it\n",
    "                    reward_full[j, i] = -1\n",
    "            else:\n",
    "                if state[i] == item:\n",
    "                    # Each restore should be penalized a little bit so that the robot prefers items near the entry\n",
    "                    reward_full[j, i] = -0.04\n",
    "                else:\n",
    "                    # Restoring if state[i] is empty should be penalized hard to avoid it\n",
    "                    reward_full[j, i] = -1\n",
    "                    \n",
    "    return reward_full\n",
    "\n",
    "reward_full = create_reward()\n",
    "print(reward_full)"
   ]
  },
  {
   "cell_type": "markdown",
   "metadata": {},
   "source": [
    "## Training"
   ]
  },
  {
   "cell_type": "code",
   "execution_count": 317,
   "metadata": {},
   "outputs": [
    {
     "name": "stdout",
     "output_type": "stream",
     "text": [
      "(0, 0, 0, 0, 0, 0, 0, 0, 0, 0, 0, 0, 0, 0, 0, 0, 0, 0, 0, 0, 0, 0, 0, 0, 0, 0, 0, 0, 0, 0, 0, 0, 0, 0, 0, 0, 0, 0, 0, 0, 0, 0, 0, 0, 0, 0, 0, 0, 0, 0, 0, 0, 0, 0, 0, 0, 0, 0, 0, 0, 0, 0, 0, 0, 1, 1, 1, 1, 1, 1, 1, 1, 1, 1, 1, 1, 1, 1, 1, 1, 2, 2, 2, 2, 3, 0, 0, 0, 3, 0, 0, 0, 3, 0, 0, 0, 2, 2, 2, 2, 3, 0, 0, 0, 3, 0, 0, 0, 3, 0, 0, 0, 2, 2, 2, 2, 3, 0, 0, 0, 3, 0, 0, 0, 3, 0, 0, 0, 1, 1, 1, 1, 1, 1, 1, 1, 1, 1, 1, 1, 1, 1, 1, 1, 2, 2, 2, 2, 3, 0, 0, 0, 3, 0, 0, 0, 3, 0, 0, 0, 2, 2, 2, 2, 3, 0, 0, 0, 3, 0, 0, 0, 3, 0, 0, 0, 2, 2, 2, 2, 3, 0, 0, 0, 3, 0, 0, 0, 3, 0, 0, 0, 1, 1, 1, 1, 1, 1, 1, 1, 1, 1, 1, 1, 1, 1, 1, 1, 2, 2, 2, 2, 3, 0, 0, 0, 3, 0, 0, 0, 3, 0, 0, 0, 2, 2, 2, 2, 3, 0, 0, 0, 3, 0, 0, 0, 3, 0, 0, 0, 2, 2, 2, 2, 3, 0, 0, 0, 3, 0, 0, 0, 3, 0, 0, 0, 0, 0, 0, 0, 0, 0, 0, 0, 0, 0, 0, 0, 0, 0, 0, 0, 0, 0, 0, 0, 0, 0, 0, 0, 0, 0, 0, 0, 0, 0, 0, 0, 0, 0, 0, 0, 0, 0, 0, 0, 0, 0, 0, 0, 0, 0, 0, 0, 0, 0, 0, 0, 0, 0, 0, 0, 0, 0, 0, 0, 0, 0, 0, 0, 1, 1, 1, 1, 1, 1, 1, 1, 1, 1, 1, 1, 1, 1, 1, 1, 2, 2, 2, 2, 3, 0, 0, 0, 3, 0, 0, 0, 3, 0, 0, 0, 2, 2, 2, 2, 3, 0, 0, 0, 3, 0, 0, 0, 3, 0, 0, 0, 2, 2, 2, 2, 3, 0, 0, 0, 3, 0, 0, 0, 3, 0, 0, 0, 1, 1, 1, 1, 1, 1, 1, 1, 1, 1, 1, 1, 1, 1, 1, 1, 2, 2, 2, 2, 3, 0, 0, 0, 3, 0, 0, 0, 3, 0, 0, 0, 2, 2, 2, 2, 3, 0, 0, 0, 3, 0, 0, 0, 3, 0, 0, 0, 2, 2, 2, 2, 3, 0, 0, 0, 3, 0, 0, 0, 3, 0, 0, 0, 1, 1, 1, 1, 1, 1, 1, 1, 1, 1, 1, 1, 1, 1, 1, 1, 2, 2, 2, 2, 3, 0, 0, 0, 3, 0, 0, 0, 3, 0, 0, 0, 2, 2, 2, 2, 3, 0, 0, 0, 3, 0, 0, 0, 3, 0, 0, 0, 2, 2, 2, 2, 3, 0, 0, 0, 3, 0, 0, 0, 3, 0, 0, 0, 0, 0, 0, 0, 0, 0, 0, 0, 0, 0, 0, 0, 0, 0, 0, 0, 0, 0, 0, 0, 0, 0, 0, 0, 0, 0, 0, 0, 0, 0, 0, 0, 0, 0, 0, 0, 0, 0, 0, 0, 0, 0, 0, 0, 0, 0, 0, 0, 0, 0, 0, 0, 0, 0, 0, 0, 0, 0, 0, 0, 0, 0, 0, 0, 1, 1, 1, 1, 1, 1, 1, 1, 1, 1, 1, 1, 1, 1, 1, 1, 2, 2, 2, 2, 3, 0, 0, 0, 3, 0, 0, 0, 3, 0, 0, 0, 2, 2, 2, 2, 3, 0, 0, 0, 3, 0, 0, 0, 3, 0, 0, 0, 2, 2, 2, 2, 3, 0, 0, 0, 3, 0, 0, 0, 3, 0, 0, 0, 1, 1, 1, 1, 1, 1, 1, 1, 1, 1, 1, 1, 1, 1, 1, 1, 2, 2, 2, 2, 3, 0, 0, 0, 3, 0, 0, 0, 3, 0, 0, 0, 2, 2, 2, 2, 3, 0, 0, 0, 3, 0, 0, 0, 3, 0, 0, 0, 2, 2, 2, 2, 3, 0, 0, 0, 3, 0, 0, 0, 3, 0, 0, 0, 1, 1, 1, 1, 1, 1, 1, 1, 1, 1, 1, 1, 1, 1, 1, 1, 2, 2, 2, 2, 3, 0, 0, 0, 3, 0, 0, 0, 3, 0, 0, 0, 2, 2, 2, 2, 3, 0, 0, 0, 3, 0, 0, 0, 3, 0, 0, 0, 2, 2, 2, 2, 3, 0, 0, 0, 3, 0, 0, 0, 3, 0, 0, 0, 0, 3, 0, 0, 2, 2, 2, 2, 0, 3, 2, 0, 0, 3, 0, 2, 1, 1, 1, 1, 1, 1, 1, 1, 1, 1, 1, 1, 1, 1, 1, 1, 0, 3, 1, 0, 2, 2, 2, 2, 1, 3, 1, 1, 0, 3, 1, 2, 0, 3, 0, 1, 2, 2, 2, 2, 0, 3, 2, 1, 1, 3, 1, 1, 0, 0, 0, 0, 0, 0, 0, 0, 0, 0, 0, 0, 0, 0, 0, 0, 0, 0, 0, 0, 0, 0, 0, 0, 0, 0, 0, 0, 0, 0, 0, 0, 0, 0, 0, 0, 0, 0, 0, 0, 0, 0, 0, 0, 0, 0, 0, 0, 0, 0, 0, 0, 0, 0, 0, 0, 0, 0, 0, 0, 0, 0, 0, 0, 1, 3, 0, 1, 2, 2, 2, 2, 0, 3, 0, 0, 1, 3, 0, 2, 1, 1, 1, 1, 1, 1, 1, 1, 1, 1, 1, 1, 1, 1, 1, 1, 0, 3, 0, 0, 2, 2, 2, 2, 0, 3, 0, 0, 0, 3, 0, 0, 2, 3, 0, 1, 2, 2, 2, 2, 0, 3, 0, 0, 1, 3, 0, 1, 1, 3, 1, 0, 2, 2, 2, 2, 1, 3, 2, 0, 0, 3, 0, 0, 1, 1, 1, 1, 1, 1, 1, 1, 1, 1, 1, 1, 1, 1, 1, 1, 2, 3, 1, 0, 2, 2, 2, 2, 1, 3, 1, 1, 0, 3, 1, 0, 0, 3, 0, 0, 2, 2, 2, 2, 0, 3, 2, 0, 0, 3, 0, 0, 0, 0, 3, 0, 0, 2, 3, 0, 2, 2, 2, 2, 0, 0, 3, 2, 0, 1, 3, 0, 1, 1, 3, 1, 2, 2, 2, 2, 0, 1, 3, 2, 1, 1, 1, 1, 1, 1, 1, 1, 1, 1, 1, 1, 1, 1, 1, 1, 0, 0, 3, 1, 0, 2, 3, 1, 2, 2, 2, 2, 1, 1, 3, 1, 1, 0, 3, 1, 0, 0, 3, 0, 2, 2, 2, 2, 1, 0, 3, 2, 0, 0, 3, 0, 0, 0, 3, 0, 2, 2, 2, 2, 0, 0, 3, 2, 1, 1, 1, 1, 1, 1, 1, 1, 1, 1, 1, 1, 1, 1, 1, 1, 2, 0, 3, 1, 0, 0, 3, 1, 2, 2, 2, 2, 1, 1, 3, 1, 0, 0, 0, 0, 0, 0, 0, 0, 0, 0, 0, 0, 0, 0, 0, 0, 0, 0, 0, 0, 0, 0, 0, 0, 0, 0, 0, 0, 0, 0, 0, 0, 0, 0, 0, 0, 0, 0, 0, 0, 0, 0, 0, 0, 0, 0, 0, 0, 0, 0, 0, 0, 0, 0, 0, 0, 0, 0, 0, 0, 0, 0, 0, 0, 1, 1, 3, 0, 1, 2, 3, 0, 2, 2, 2, 2, 0, 0, 3, 0, 2, 1, 3, 0, 1, 1, 3, 0, 2, 2, 2, 2, 0, 0, 3, 0, 1, 1, 1, 1, 1, 1, 1, 1, 1, 1, 1, 1, 1, 1, 1, 1, 0, 0, 3, 0, 0, 0, 3, 0, 2, 2, 2, 2, 0, 0, 3, 0, 0, 0, 0, 3, 0, 2, 0, 3, 0, 0, 2, 3, 2, 2, 2, 2, 0, 1, 0, 3, 1, 1, 1, 3, 0, 1, 2, 3, 2, 2, 2, 2, 0, 0, 1, 3, 0, 2, 1, 3, 1, 1, 1, 3, 2, 2, 2, 2, 1, 1, 1, 1, 1, 1, 1, 1, 1, 1, 1, 1, 1, 1, 1, 1, 1, 0, 1, 3, 0, 0, 0, 3, 1, 0, 2, 3, 2, 2, 2, 2, 0, 0, 0, 3, 0, 0, 0, 3, 0, 0, 2, 3, 2, 2, 2, 2, 2, 0, 1, 3, 0, 0, 1, 3, 1, 1, 1, 3, 2, 2, 2, 2, 1, 1, 1, 1, 1, 1, 1, 1, 1, 1, 1, 1, 1, 1, 1, 1, 1, 1, 0, 3, 1, 2, 0, 3, 0, 0, 0, 3, 2, 2, 2, 2, 2, 1, 0, 3, 1, 1, 0, 3, 0, 0, 0, 3, 2, 2, 2, 2, 0, 0, 0, 3, 0, 0, 0, 3, 0, 0, 0, 3, 2, 2, 2, 2, 1, 1, 1, 1, 1, 1, 1, 1, 1, 1, 1, 1, 1, 1, 1, 1, 0, 0, 0, 0, 0, 0, 0, 0, 0, 0, 0, 0, 0, 0, 0, 0, 0, 0, 0, 0, 0, 0, 0, 0, 0, 0, 0, 0, 0, 0, 0, 0, 0, 0, 0, 0, 0, 0, 0, 0, 0, 0, 0, 0, 0, 0, 0, 0, 0, 0, 0, 0, 0, 0, 0, 0, 0, 0, 0, 0, 0, 0, 0, 0) \n",
      "\n",
      "(3, 1, 1, 0, 1, 0, 0, 1, 3, 1, 1, 0, 3, 0, 0, 1, 2, 2, 2, 0, 0, 0, 0, 0, 0, 0, 0, 0, 0, 0, 0, 0, 3, 0, 0, 0, 3, 0, 0, 0, 0, 0, 0, 0, 3, 0, 0, 0, 3, 0, 0, 0, 0, 0, 0, 0, 0, 0, 0, 0, 0, 0, 0, 0, 1, 2, 2, 1, 1, 1, 1, 1, 1, 1, 1, 1, 1, 1, 1, 1, 2, 2, 2, 2, 3, 0, 0, 0, 3, 0, 0, 0, 3, 0, 0, 0, 3, 2, 2, 2, 3, 0, 0, 0, 3, 0, 0, 0, 3, 0, 0, 0, 2, 2, 2, 2, 3, 0, 0, 0, 3, 0, 0, 0, 3, 0, 0, 0, 1, 1, 1, 1, 1, 1, 1, 1, 3, 1, 1, 1, 1, 1, 1, 1, 2, 2, 2, 2, 3, 0, 0, 0, 3, 0, 0, 0, 3, 0, 0, 0, 2, 2, 2, 2, 3, 0, 0, 0, 3, 0, 0, 0, 3, 0, 0, 0, 2, 2, 2, 2, 3, 0, 0, 0, 3, 0, 0, 0, 3, 0, 0, 0, 2, 2, 2, 1, 3, 1, 1, 1, 1, 1, 1, 1, 1, 1, 1, 1, 2, 2, 2, 2, 3, 0, 0, 0, 3, 0, 0, 0, 3, 0, 0, 0, 2, 2, 2, 2, 3, 0, 0, 0, 3, 0, 0, 0, 3, 0, 0, 0, 2, 2, 2, 2, 3, 0, 0, 0, 3, 0, 0, 0, 3, 0, 0, 0, 0, 2, 2, 1, 0, 1, 0, 0, 3, 0, 0, 0, 3, 0, 1, 0, 0, 2, 0, 0, 0, 0, 0, 0, 3, 0, 0, 0, 0, 0, 0, 0, 3, 0, 0, 0, 0, 0, 0, 0, 3, 0, 0, 0, 3, 0, 0, 0, 2, 2, 0, 0, 0, 0, 0, 0, 0, 0, 0, 0, 3, 0, 0, 0, 2, 1, 1, 1, 1, 1, 1, 1, 3, 1, 1, 1, 3, 1, 1, 1, 2, 2, 2, 2, 3, 0, 0, 0, 3, 0, 0, 0, 3, 0, 0, 0, 3, 2, 2, 2, 3, 0, 0, 0, 3, 0, 0, 0, 3, 0, 0, 0, 2, 2, 2, 2, 3, 0, 0, 0, 3, 0, 0, 0, 3, 0, 0, 0, 2, 2, 1, 1, 3, 1, 1, 1, 3, 1, 1, 1, 1, 1, 1, 1, 3, 2, 2, 2, 3, 0, 0, 0, 3, 0, 0, 0, 3, 0, 0, 0, 3, 2, 2, 2, 3, 0, 0, 0, 3, 0, 0, 0, 3, 0, 0, 0, 2, 2, 2, 2, 3, 0, 0, 0, 3, 0, 0, 0, 3, 0, 0, 0, 3, 2, 2, 1, 1, 1, 1, 1, 3, 1, 1, 1, 3, 1, 1, 1, 2, 2, 2, 2, 3, 0, 0, 0, 3, 0, 0, 0, 3, 0, 0, 0, 3, 2, 2, 2, 3, 0, 0, 0, 3, 0, 0, 0, 3, 0, 0, 0, 2, 2, 2, 2, 3, 0, 0, 0, 3, 0, 0, 0, 3, 0, 0, 0, 1, 1, 0, 0, 0, 0, 0, 0, 1, 0, 0, 0, 0, 1, 0, 0, 2, 0, 2, 0, 0, 0, 0, 0, 0, 0, 0, 0, 3, 0, 0, 0, 3, 2, 0, 0, 0, 0, 0, 0, 0, 0, 0, 0, 0, 0, 0, 0, 2, 2, 2, 0, 0, 0, 0, 0, 0, 0, 0, 0, 3, 0, 0, 0, 2, 1, 1, 1, 1, 1, 1, 1, 1, 1, 1, 1, 1, 1, 1, 1, 2, 2, 2, 2, 3, 0, 0, 0, 3, 0, 0, 0, 3, 0, 0, 0, 3, 2, 2, 2, 3, 0, 0, 0, 3, 0, 0, 0, 3, 0, 0, 0, 2, 2, 2, 2, 3, 0, 0, 0, 3, 0, 0, 0, 3, 0, 0, 0, 1, 2, 1, 1, 1, 1, 1, 1, 1, 1, 1, 1, 3, 1, 1, 1, 2, 2, 2, 2, 3, 0, 0, 0, 3, 0, 0, 0, 3, 0, 0, 0, 3, 2, 2, 2, 3, 0, 0, 0, 3, 0, 0, 0, 3, 0, 0, 0, 3, 2, 2, 2, 3, 0, 0, 0, 3, 0, 0, 0, 3, 0, 0, 0, 2, 1, 2, 1, 1, 1, 1, 1, 3, 1, 1, 1, 3, 1, 1, 1, 3, 2, 2, 2, 3, 0, 0, 0, 3, 0, 0, 0, 3, 0, 0, 0, 2, 2, 2, 2, 3, 0, 0, 0, 3, 0, 0, 0, 3, 0, 0, 0, 3, 2, 2, 2, 3, 0, 0, 0, 3, 0, 0, 0, 3, 0, 0, 0, 0, 3, 0, 0, 2, 2, 2, 2, 0, 3, 2, 0, 0, 3, 0, 2, 1, 1, 1, 1, 2, 2, 2, 2, 1, 1, 1, 1, 1, 1, 1, 1, 0, 3, 1, 0, 2, 2, 2, 2, 1, 3, 1, 1, 0, 3, 1, 2, 0, 3, 0, 3, 2, 2, 2, 2, 0, 3, 2, 1, 2, 3, 1, 1, 0, 0, 0, 0, 0, 2, 0, 2, 0, 0, 0, 0, 0, 0, 0, 0, 0, 0, 0, 0, 0, 0, 0, 2, 0, 0, 0, 0, 0, 1, 0, 0, 0, 0, 0, 0, 0, 2, 0, 2, 0, 0, 0, 0, 0, 0, 0, 0, 0, 0, 0, 0, 0, 0, 0, 0, 0, 3, 0, 0, 0, 3, 0, 0, 1, 3, 0, 1, 2, 2, 2, 2, 2, 3, 0, 0, 1, 3, 0, 2, 1, 1, 1, 1, 1, 3, 1, 2, 1, 1, 1, 1, 1, 3, 1, 1, 1, 3, 0, 0, 2, 3, 2, 2, 1, 3, 0, 1, 0, 3, 0, 1, 2, 3, 0, 1, 2, 3, 2, 2, 0, 3, 0, 2, 1, 3, 0, 1, 1, 3, 1, 0, 2, 3, 2, 2, 1, 3, 2, 0, 0, 3, 0, 0, 1, 3, 1, 1, 1, 1, 1, 2, 1, 1, 1, 1, 1, 1, 1, 1, 2, 3, 1, 0, 2, 3, 2, 2, 1, 3, 1, 1, 0, 3, 1, 0, 0, 3, 0, 0, 2, 3, 2, 2, 0, 3, 2, 1, 0, 3, 1, 0, 0, 0, 3, 0, 0, 2, 3, 0, 2, 2, 2, 2, 0, 0, 3, 2, 0, 1, 3, 0, 1, 2, 3, 2, 2, 2, 2, 2, 0, 1, 3, 2, 1, 1, 1, 1, 1, 1, 1, 1, 1, 1, 1, 1, 1, 1, 1, 1, 0, 0, 3, 3, 0, 2, 3, 3, 2, 2, 3, 2, 2, 1, 3, 1, 1, 0, 3, 1, 0, 0, 3, 2, 2, 2, 3, 2, 1, 0, 3, 2, 0, 0, 3, 0, 0, 0, 3, 0, 2, 2, 3, 2, 0, 0, 3, 2, 1, 1, 1, 1, 1, 1, 1, 1, 1, 2, 1, 2, 1, 1, 1, 1, 2, 0, 3, 1, 0, 0, 3, 1, 2, 2, 3, 2, 1, 1, 3, 1, 0, 0, 0, 0, 0, 0, 3, 0, 2, 0, 0, 0, 0, 0, 0, 0, 0, 0, 0, 0, 0, 0, 3, 0, 0, 0, 0, 2, 0, 0, 3, 0, 1, 0, 0, 0, 1, 0, 1, 1, 1, 1, 0, 1, 0, 0, 0, 1, 0, 0, 0, 0, 0, 0, 0, 0, 0, 0, 0, 2, 0, 0, 0, 0, 1, 1, 3, 0, 1, 3, 3, 3, 2, 2, 2, 2, 0, 0, 3, 0, 2, 3, 3, 0, 1, 1, 3, 0, 2, 2, 3, 2, 0, 0, 3, 0, 1, 1, 1, 1, 1, 1, 1, 1, 1, 1, 1, 1, 1, 1, 1, 1, 0, 0, 3, 0, 0, 1, 3, 0, 2, 2, 2, 2, 0, 0, 3, 0, 0, 0, 0, 3, 0, 2, 0, 3, 0, 0, 2, 3, 2, 2, 2, 2, 0, 1, 0, 3, 1, 2, 2, 3, 0, 1, 2, 3, 2, 2, 2, 2, 0, 0, 1, 3, 0, 2, 1, 3, 1, 1, 1, 3, 2, 2, 2, 2, 1, 1, 1, 3, 1, 1, 1, 3, 1, 1, 1, 3, 2, 1, 1, 3, 1, 0, 1, 3, 0, 0, 0, 3, 1, 0, 3, 3, 2, 2, 2, 2, 0, 0, 0, 3, 0, 0, 0, 3, 0, 0, 3, 3, 2, 2, 2, 2, 2, 0, 1, 3, 0, 2, 1, 3, 1, 2, 1, 3, 2, 2, 2, 2, 1, 1, 1, 1, 1, 1, 1, 3, 1, 1, 1, 3, 1, 1, 1, 3, 1, 1, 0, 3, 1, 2, 3, 3, 2, 0, 0, 3, 2, 2, 2, 2, 2, 1, 0, 3, 1, 3, 3, 3, 0, 0, 0, 3, 2, 2, 2, 3, 1, 0, 0, 3, 1, 0, 0, 3, 1, 0, 0, 3, 2, 2, 2, 2, 1, 1, 1, 1, 1, 1, 1, 1, 1, 1, 1, 1, 1, 1, 2, 1, 0, 0, 0, 3, 0, 0, 0, 3, 0, 0, 0, 0, 2, 0, 0, 3, 0, 0, 0, 0, 0, 0, 0, 3, 0, 0, 0, 0, 0, 0, 0, 0, 0, 0, 0, 0, 0, 0, 0, 3, 0, 0, 0, 0, 0, 0, 0, 0, 0, 0, 0, 0, 0, 1, 0, 3, 0, 0, 1, 1, 0, 0, 1, 0)\n"
     ]
    }
   ],
   "source": [
    "discount = 0.9\n",
    "mdpresultValue = mdptoolbox.mdp.ValueIteration(tpm_full,reward_full, discount, max_iter=100)\n",
    "mdpresultPolicy = mdptoolbox.mdp.PolicyIteration(tpm_full,reward_full, discount, max_iter=100)\n",
    "\n",
    "mdpresultValue.run()\n",
    "mdpresultPolicy.run()\n",
    "\n",
    "print(mdpresultValue.policy, '\\n')\n",
    "print(mdpresultPolicy.policy)"
   ]
  },
  {
   "cell_type": "markdown",
   "metadata": {},
   "source": [
    "## Evaluation"
   ]
  },
  {
   "cell_type": "code",
   "execution_count": 324,
   "metadata": {},
   "outputs": [],
   "source": [
    "def get_policy_index_by_state_action(state_action):\n",
    "    for i, pair in enumerate(states_actions):\n",
    "        if pair == state_action:\n",
    "            return i\n",
    "    raise ValueError\n",
    "\n",
    "def run_mdp_factory(policy, silent=True):\n",
    "    \n",
    "    warehouse = [\"empty\", \"empty\", \"empty\", \"empty\"]\n",
    "    traveled_distance = 0\n",
    "    num_wrong_store_predictions = 0\n",
    "    num_wrong_restore_predictions = 0\n",
    "    \n",
    "    if not silent:\n",
    "        print(f\"Warehouse: {warehouse}\")\n",
    "    \n",
    "    for action, item in zip(df[\"action\"], df[\"item\"]):\n",
    "        if i == 10:\n",
    "            break\n",
    "        state_action = (tuple(warehouse), (action, item))\n",
    "        policy_index = get_policy_index_by_state_action(state_action)\n",
    "\n",
    "        warehouse_index = policy[policy_index] \n",
    "        \n",
    "        if action == \"store\":\n",
    "            if warehouse[warehouse_index] != \"empty\":\n",
    "                num_wrong_store_predictions += 1\n",
    "            else:\n",
    "                warehouse[warehouse_index] = item\n",
    "        else:\n",
    "            if warehouse[warehouse_index] != item:\n",
    "                num_wrong_restore_predictions += 1\n",
    "            else:\n",
    "                warehouse[warehouse_index] = \"empty\"\n",
    "        \n",
    "        # Assume 1 unit between two warehouse cells\n",
    "        if warehouse_index == 0:\n",
    "            traveled_distance += 1\n",
    "        elif warehouse_index == 3:\n",
    "            traveled_distance += 3\n",
    "        else:\n",
    "            traveled_distance += 2\n",
    "        \n",
    "        \n",
    "        if not silent:\n",
    "            print(f\"Action: {action}, Item: {item}\")\n",
    "            print(f\"Warehouse: {warehouse}\")\n",
    "\n",
    "    return traveled_distance, num_wrong_store_predictions + num_wrong_restore_predictions\n",
    "\n",
    "traveled_distance_value, num_wrong_predictions_value = run_mdp_factory(mdpresultValue.policy)\n",
    "traveled_distance_policy, num_wrong_predictions_policy = run_mdp_factory(mdpresultPolicy.policy)"
   ]
  },
  {
   "cell_type": "code",
   "execution_count": 325,
   "metadata": {},
   "outputs": [
    {
     "name": "stdout",
     "output_type": "stream",
     "text": [
      "Warehouse: ['empty', 'empty', 'empty', 'empty']\n",
      "Action: store, Item: red\n",
      "Warehouse: ['red', 'empty', 'empty', 'empty']\n",
      "Action: store, Item: red\n",
      "Warehouse: ['red', 'red', 'empty', 'empty']\n",
      "Action: store, Item: red\n",
      "Warehouse: ['red', 'red', 'red', 'empty']\n",
      "Action: store, Item: white\n",
      "Warehouse: ['red', 'red', 'red', 'white']\n",
      "Action: restore, Item: red\n",
      "Warehouse: ['empty', 'red', 'red', 'white']\n",
      "Action: restore, Item: red\n",
      "Warehouse: ['empty', 'empty', 'red', 'white']\n",
      "Action: restore, Item: red\n",
      "Warehouse: ['empty', 'empty', 'empty', 'white']\n",
      "Action: restore, Item: white\n",
      "Warehouse: ['empty', 'empty', 'empty', 'empty']\n",
      "Action: store, Item: blue\n",
      "Warehouse: ['blue', 'empty', 'empty', 'empty']\n",
      "Action: store, Item: blue\n",
      "Warehouse: ['blue', 'blue', 'empty', 'empty']\n"
     ]
    },
    {
     "data": {
      "text/plain": [
       "(19, 0)"
      ]
     },
     "execution_count": 325,
     "metadata": {},
     "output_type": "execute_result"
    }
   ],
   "source": [
    "# Example warehouse allocation, only 10 actions shown here\n",
    "run_mdp_factory(mdpresultValue.policy, False)"
   ]
  },
  {
   "cell_type": "code",
   "execution_count": 321,
   "metadata": {},
   "outputs": [],
   "source": [
    "def run_greedy_factory(silent=True):\n",
    "    warehouse = [\"empty\", \"empty\", \"empty\", \"empty\"]\n",
    "    traveled_distance = 0\n",
    "\n",
    "    if not silent:\n",
    "        print(f\"Warehouse: {warehouse}\")\n",
    "\n",
    "    for action, item in zip(df[\"action\"], df[\"item\"]):\n",
    "        warehouse_index = 0\n",
    "\n",
    "        if action == \"store\":\n",
    "            while warehouse[warehouse_index] != \"empty\":\n",
    "                warehouse_index += 1\n",
    "            warehouse[warehouse_index] = item\n",
    "        else:\n",
    "            while warehouse[warehouse_index] != item:\n",
    "                warehouse_index += 1\n",
    "            warehouse[warehouse_index] = \"empty\"\n",
    "\n",
    "        # Assume 1 unit between two warehouse cells\n",
    "        if warehouse_index == 0:\n",
    "            traveled_distance += 1\n",
    "        elif warehouse_index == 3:\n",
    "            traveled_distance += 3\n",
    "        else:\n",
    "            traveled_distance += 2\n",
    "\n",
    "        if not silent:\n",
    "            print(f\"Action: {action}, Item: {item}\")\n",
    "            print(f\"Warehouse: {warehouse}\")\n",
    "\n",
    "    return traveled_distance\n",
    "\n",
    "traveled_distance_greedy = run_greedy_factory()"
   ]
  },
  {
   "cell_type": "code",
   "execution_count": 322,
   "metadata": {},
   "outputs": [
    {
     "name": "stdout",
     "output_type": "stream",
     "text": [
      "Traveled distance with value iteration: 14401, with 0 wrong predictions\n",
      "Traveled distance with policy iteration: 16398 with 0 wrong predictions\n",
      "Traveled distance with greedy search: 14401\n"
     ]
    }
   ],
   "source": [
    "print(f\"Traveled distance with value iteration: {traveled_distance_value}, with {num_wrong_predictions_value} wrong predictions\")\n",
    "print(f\"Traveled distance with policy iteration: {traveled_distance_policy} with {num_wrong_predictions_policy} wrong predictions\")\n",
    "print(f\"Traveled distance with greedy search: {traveled_distance_greedy}\")"
   ]
  }
 ],
 "metadata": {
  "kernelspec": {
   "display_name": "Python 3",
   "language": "python",
   "name": "python3"
  },
  "language_info": {
   "codemirror_mode": {
    "name": "ipython",
    "version": 3
   },
   "file_extension": ".py",
   "mimetype": "text/x-python",
   "name": "python",
   "nbconvert_exporter": "python",
   "pygments_lexer": "ipython3",
   "version": "3.8.10"
  }
 },
 "nbformat": 4,
 "nbformat_minor": 1
}
